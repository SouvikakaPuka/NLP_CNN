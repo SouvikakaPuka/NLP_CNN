{
  "nbformat": 4,
  "nbformat_minor": 0,
  "metadata": {
    "colab": {
      "name": "LR Conv 1d.ipynb",
      "provenance": [],
      "collapsed_sections": []
    },
    "kernelspec": {
      "name": "python3",
      "display_name": "Python 3"
    },
    "accelerator": "GPU"
  },
  "cells": [
    {
      "cell_type": "code",
      "metadata": {
        "id": "0eybWQm5qXBB",
        "colab_type": "code",
        "colab": {}
      },
      "source": [
        "import pandas as pd\n",
        "from sklearn.model_selection import train_test_split\n",
        "import numpy as np\n",
        "import matplotlib.pyplot as plt\n",
        "%matplotlib inline"
      ],
      "execution_count": 0,
      "outputs": []
    },
    {
      "cell_type": "code",
      "metadata": {
        "id": "oxD0CT5FrpeT",
        "colab_type": "code",
        "outputId": "f01bc96d-24e8-4239-e718-6ce19aed937a",
        "colab": {
          "base_uri": "https://localhost:8080/",
          "height": 363
        }
      },
      "source": [
        "dataset = pd.read_csv('/content/housing.csv')\n",
        "\n",
        "dataset = dataset.dropna()\n",
        "\n",
        "dataset.head(10)"
      ],
      "execution_count": 14,
      "outputs": [
        {
          "output_type": "execute_result",
          "data": {
            "text/html": [
              "<div>\n",
              "<style scoped>\n",
              "    .dataframe tbody tr th:only-of-type {\n",
              "        vertical-align: middle;\n",
              "    }\n",
              "\n",
              "    .dataframe tbody tr th {\n",
              "        vertical-align: top;\n",
              "    }\n",
              "\n",
              "    .dataframe thead th {\n",
              "        text-align: right;\n",
              "    }\n",
              "</style>\n",
              "<table border=\"1\" class=\"dataframe\">\n",
              "  <thead>\n",
              "    <tr style=\"text-align: right;\">\n",
              "      <th></th>\n",
              "      <th>longitude</th>\n",
              "      <th>latitude</th>\n",
              "      <th>housing_median_age</th>\n",
              "      <th>total_rooms</th>\n",
              "      <th>total_bedrooms</th>\n",
              "      <th>population</th>\n",
              "      <th>households</th>\n",
              "      <th>median_income</th>\n",
              "      <th>median_house_value</th>\n",
              "      <th>ocean_proximity</th>\n",
              "    </tr>\n",
              "  </thead>\n",
              "  <tbody>\n",
              "    <tr>\n",
              "      <th>0</th>\n",
              "      <td>-122.23</td>\n",
              "      <td>37.88</td>\n",
              "      <td>41.0</td>\n",
              "      <td>880.0</td>\n",
              "      <td>129.0</td>\n",
              "      <td>322.0</td>\n",
              "      <td>126.0</td>\n",
              "      <td>8.3252</td>\n",
              "      <td>452600.0</td>\n",
              "      <td>NEAR BAY</td>\n",
              "    </tr>\n",
              "    <tr>\n",
              "      <th>1</th>\n",
              "      <td>-122.22</td>\n",
              "      <td>37.86</td>\n",
              "      <td>21.0</td>\n",
              "      <td>7099.0</td>\n",
              "      <td>1106.0</td>\n",
              "      <td>2401.0</td>\n",
              "      <td>1138.0</td>\n",
              "      <td>8.3014</td>\n",
              "      <td>358500.0</td>\n",
              "      <td>NEAR BAY</td>\n",
              "    </tr>\n",
              "    <tr>\n",
              "      <th>2</th>\n",
              "      <td>-122.24</td>\n",
              "      <td>37.85</td>\n",
              "      <td>52.0</td>\n",
              "      <td>1467.0</td>\n",
              "      <td>190.0</td>\n",
              "      <td>496.0</td>\n",
              "      <td>177.0</td>\n",
              "      <td>7.2574</td>\n",
              "      <td>352100.0</td>\n",
              "      <td>NEAR BAY</td>\n",
              "    </tr>\n",
              "    <tr>\n",
              "      <th>3</th>\n",
              "      <td>-122.25</td>\n",
              "      <td>37.85</td>\n",
              "      <td>52.0</td>\n",
              "      <td>1274.0</td>\n",
              "      <td>235.0</td>\n",
              "      <td>558.0</td>\n",
              "      <td>219.0</td>\n",
              "      <td>5.6431</td>\n",
              "      <td>341300.0</td>\n",
              "      <td>NEAR BAY</td>\n",
              "    </tr>\n",
              "    <tr>\n",
              "      <th>4</th>\n",
              "      <td>-122.25</td>\n",
              "      <td>37.85</td>\n",
              "      <td>52.0</td>\n",
              "      <td>1627.0</td>\n",
              "      <td>280.0</td>\n",
              "      <td>565.0</td>\n",
              "      <td>259.0</td>\n",
              "      <td>3.8462</td>\n",
              "      <td>342200.0</td>\n",
              "      <td>NEAR BAY</td>\n",
              "    </tr>\n",
              "    <tr>\n",
              "      <th>5</th>\n",
              "      <td>-122.25</td>\n",
              "      <td>37.85</td>\n",
              "      <td>52.0</td>\n",
              "      <td>919.0</td>\n",
              "      <td>213.0</td>\n",
              "      <td>413.0</td>\n",
              "      <td>193.0</td>\n",
              "      <td>4.0368</td>\n",
              "      <td>269700.0</td>\n",
              "      <td>NEAR BAY</td>\n",
              "    </tr>\n",
              "    <tr>\n",
              "      <th>6</th>\n",
              "      <td>-122.25</td>\n",
              "      <td>37.84</td>\n",
              "      <td>52.0</td>\n",
              "      <td>2535.0</td>\n",
              "      <td>489.0</td>\n",
              "      <td>1094.0</td>\n",
              "      <td>514.0</td>\n",
              "      <td>3.6591</td>\n",
              "      <td>299200.0</td>\n",
              "      <td>NEAR BAY</td>\n",
              "    </tr>\n",
              "    <tr>\n",
              "      <th>7</th>\n",
              "      <td>-122.25</td>\n",
              "      <td>37.84</td>\n",
              "      <td>52.0</td>\n",
              "      <td>3104.0</td>\n",
              "      <td>687.0</td>\n",
              "      <td>1157.0</td>\n",
              "      <td>647.0</td>\n",
              "      <td>3.1200</td>\n",
              "      <td>241400.0</td>\n",
              "      <td>NEAR BAY</td>\n",
              "    </tr>\n",
              "    <tr>\n",
              "      <th>8</th>\n",
              "      <td>-122.26</td>\n",
              "      <td>37.84</td>\n",
              "      <td>42.0</td>\n",
              "      <td>2555.0</td>\n",
              "      <td>665.0</td>\n",
              "      <td>1206.0</td>\n",
              "      <td>595.0</td>\n",
              "      <td>2.0804</td>\n",
              "      <td>226700.0</td>\n",
              "      <td>NEAR BAY</td>\n",
              "    </tr>\n",
              "    <tr>\n",
              "      <th>9</th>\n",
              "      <td>-122.25</td>\n",
              "      <td>37.84</td>\n",
              "      <td>52.0</td>\n",
              "      <td>3549.0</td>\n",
              "      <td>707.0</td>\n",
              "      <td>1551.0</td>\n",
              "      <td>714.0</td>\n",
              "      <td>3.6912</td>\n",
              "      <td>261100.0</td>\n",
              "      <td>NEAR BAY</td>\n",
              "    </tr>\n",
              "  </tbody>\n",
              "</table>\n",
              "</div>"
            ],
            "text/plain": [
              "   longitude  latitude  ...  median_house_value  ocean_proximity\n",
              "0    -122.23     37.88  ...            452600.0         NEAR BAY\n",
              "1    -122.22     37.86  ...            358500.0         NEAR BAY\n",
              "2    -122.24     37.85  ...            352100.0         NEAR BAY\n",
              "3    -122.25     37.85  ...            341300.0         NEAR BAY\n",
              "4    -122.25     37.85  ...            342200.0         NEAR BAY\n",
              "5    -122.25     37.85  ...            269700.0         NEAR BAY\n",
              "6    -122.25     37.84  ...            299200.0         NEAR BAY\n",
              "7    -122.25     37.84  ...            241400.0         NEAR BAY\n",
              "8    -122.26     37.84  ...            226700.0         NEAR BAY\n",
              "9    -122.25     37.84  ...            261100.0         NEAR BAY\n",
              "\n",
              "[10 rows x 10 columns]"
            ]
          },
          "metadata": {
            "tags": []
          },
          "execution_count": 14
        }
      ]
    },
    {
      "cell_type": "code",
      "metadata": {
        "id": "1BGg84hWEYEH",
        "colab_type": "code",
        "colab": {}
      },
      "source": [
        "ds = dataset.copy()\n",
        "ds = dataset.drop(columns=['ocean_proximity'])\n",
        "ds = ds[:18]"
      ],
      "execution_count": 0,
      "outputs": []
    },
    {
      "cell_type": "code",
      "metadata": {
        "id": "F5VLHxHFEsEv",
        "colab_type": "code",
        "colab": {
          "base_uri": "https://localhost:8080/",
          "height": 428
        },
        "outputId": "b214c2c5-8c04-493e-f4c1-2fc8e3bc0598"
      },
      "source": [
        "ds.plot(subplots=True)"
      ],
      "execution_count": 12,
      "outputs": [
        {
          "output_type": "execute_result",
          "data": {
            "text/plain": [
              "array([<matplotlib.axes._subplots.AxesSubplot object at 0x7f817a0b0400>,\n",
              "       <matplotlib.axes._subplots.AxesSubplot object at 0x7f817a04e0b8>,\n",
              "       <matplotlib.axes._subplots.AxesSubplot object at 0x7f81787fc080>,\n",
              "       <matplotlib.axes._subplots.AxesSubplot object at 0x7f81787b4048>,\n",
              "       <matplotlib.axes._subplots.AxesSubplot object at 0x7f8178758fd0>,\n",
              "       <matplotlib.axes._subplots.AxesSubplot object at 0x7f817878cf98>,\n",
              "       <matplotlib.axes._subplots.AxesSubplot object at 0x7f8178741f60>,\n",
              "       <matplotlib.axes._subplots.AxesSubplot object at 0x7f8178701128>,\n",
              "       <matplotlib.axes._subplots.AxesSubplot object at 0x7f8178701160>],\n",
              "      dtype=object)"
            ]
          },
          "metadata": {
            "tags": []
          },
          "execution_count": 12
        },
        {
          "output_type": "display_data",
          "data": {
            "image/png": "[encoded data removed]",
            "text/plain": [
              "<Figure size 432x288 with 9 Axes>"
            ]
          },
          "metadata": {
            "tags": []
          }
        }
      ]
    },
    {
      "cell_type": "code",
      "metadata": {
        "id": "Apy7IwkosTwK",
        "colab_type": "code",
        "colab": {}
      },
      "source": [
        "Y = dataset['median_house_value']\n",
        "\n",
        "X = dataset.loc[:, 'longitude' : 'median_income']"
      ],
      "execution_count": 0,
      "outputs": []
    },
    {
      "cell_type": "code",
      "metadata": {
        "id": "X-o_WJVUssdf",
        "colab_type": "code",
        "outputId": "a17b0fe5-58dd-453b-ad4a-ace2b51706d1",
        "colab": {
          "base_uri": "https://localhost:8080/",
          "height": 34
        }
      },
      "source": [
        "X.shape"
      ],
      "execution_count": 0,
      "outputs": [
        {
          "output_type": "execute_result",
          "data": {
            "text/plain": [
              "(20433, 8)"
            ]
          },
          "metadata": {
            "tags": []
          },
          "execution_count": 4
        }
      ]
    },
    {
      "cell_type": "code",
      "metadata": {
        "id": "M5g3fIDusx2f",
        "colab_type": "code",
        "outputId": "d2e0f8be-0d5e-4683-fc41-011645b32e87",
        "colab": {
          "base_uri": "https://localhost:8080/",
          "height": 34
        }
      },
      "source": [
        "Y.shape"
      ],
      "execution_count": 0,
      "outputs": [
        {
          "output_type": "execute_result",
          "data": {
            "text/plain": [
              "(20433,)"
            ]
          },
          "metadata": {
            "tags": []
          },
          "execution_count": 17
        }
      ]
    },
    {
      "cell_type": "code",
      "metadata": {
        "id": "SzuuccDYs77j",
        "colab_type": "code",
        "colab": {}
      },
      "source": [
        "x_train, x_test, y_train, y_test = train_test_split(X, Y, test_size = 0.3, random_state = 2003, shuffle = True)\n",
        "\n",
        "np.random.seed(4)\n",
        "\n",
        "x_train_np = x_train.to_numpy()\n",
        "y_train_np = y_train.to_numpy()\n",
        "\n",
        "x_test_np = x_test.to_numpy()\n",
        "y_test_np = y_test.to_numpy()"
      ],
      "execution_count": 0,
      "outputs": []
    },
    {
      "cell_type": "code",
      "metadata": {
        "id": "PvK5NzkCt3j6",
        "colab_type": "code",
        "colab": {}
      },
      "source": [
        "import torch\n",
        "from torch.nn import BatchNorm1d\n",
        "from torch.nn import Conv1d\n",
        "from torch.nn import MaxPool1d\n",
        "from torch.nn import Flatten\n",
        "from torch.nn import Linear\n",
        "from torch.nn.functional import relu, dropout\n",
        "from torch.utils.data import DataLoader, TensorDataset"
      ],
      "execution_count": 0,
      "outputs": []
    },
    {
      "cell_type": "code",
      "metadata": {
        "id": "V3MUrpS3XSw3",
        "colab_type": "code",
        "colab": {}
      },
      "source": [
        "# Initial Architecture for Literature Review\n",
        "\n",
        "class CnnRegressor(torch.nn.Module):\n",
        "  def __init__(self, batch_size, inputs, outputs):\n",
        "    super(CnnRegressor, self).__init__()\n",
        "    self.batch_size = batch_size\n",
        "    self.inputs = inputs\n",
        "    self.outputs =outputs\n",
        "\n",
        "    self.input_layer = Conv1d(inputs, batch_size, 1)\n",
        "\n",
        "    self.max_pooling_layer = MaxPool1d(1) # Constructor value:  Kernel size = 1\n",
        "\n",
        "    self.conv_layer = Conv1d(batch_size, 128, 1)\n",
        "    \n",
        "    self.flatten_layer = Flatten()\n",
        "\n",
        "    self.liner_layer = Linear(128, 128)\n",
        "\n",
        "    self.output_layer = Linear(128, outputs)\n",
        "\n",
        "  def feed(self, input):\n",
        "\n",
        "    input = input.reshape((self.batch_size, self.inputs, 1))  #single dimension for tabular data (expects 3D data(image))\n",
        "\n",
        "    output = relu(self.input_layer(input))\n",
        "\n",
        "    output = self.max_pooling_layer(output)\n",
        "\n",
        "    output = relu(self.conv_layer(output))\n",
        "\n",
        "    output = self.flatten_layer(output)\n",
        "\n",
        "    output = self.liner_layer(output)\n",
        "\n",
        "    output = self.output_layer(output)\n",
        "\n",
        "    return output"
      ],
      "execution_count": 0,
      "outputs": []
    },
    {
      "cell_type": "code",
      "metadata": {
        "id": "ojdgD-bGDaoE",
        "colab_type": "code",
        "colab": {}
      },
      "source": [
        "# Proposed Architecture\n",
        "\n",
        "class CnnRegressor(torch.nn.Module):\n",
        "  def __init__(self, batch_size, inputs, outputs):\n",
        "    super(CnnRegressor, self).__init__()\n",
        "    self.batch_size = batch_size\n",
        "    self.inputs = inputs\n",
        "    self.outputs =outputs\n",
        "\n",
        "    self.input_layer = Conv1d(inputs, batch_size, 1)\n",
        "\n",
        "    self.normalization_layer = BatchNorm1d(num_features = 128)\n",
        "\n",
        "    self.conv_layer = Conv1d(batch_size, 128, 1)\n",
        "\n",
        "    self.max_pooling_layer = MaxPool1d(1) # Constructor value:  Kernel size = 1\n",
        "    \n",
        "    self.flatten_layer = Flatten()\n",
        "\n",
        "    self.liner_layer = Linear(128, 128)\n",
        "\n",
        "    # self.liner_layer2 = Linear(128, 64)\n",
        "\n",
        "    self.output_layer = Linear(128, outputs)\n",
        "\n",
        "  def feed(self, input):\n",
        "\n",
        "    input = input.reshape((self.batch_size, self.inputs, 1))\n",
        "\n",
        "    output = relu(self.normalization_layer(self.input_layer(input)))\n",
        "\n",
        "    output = relu(self.conv_layer(output))\n",
        "\n",
        "    # output = relu(dropout(self.conv_layer(output), p = 0.2))\n",
        "\n",
        "    output = self.max_pooling_layer(output)\n",
        "\n",
        "    output = self.flatten_layer(output)\n",
        "\n",
        "    output = self.liner_layer(output)\n",
        "\n",
        "    output = self.liner_layer(output)\n",
        "\n",
        "    # output = dropout(self.liner_layer(output), p = 0.5)\n",
        "\n",
        "    output = self.output_layer(output)\n",
        "\n",
        "    return output"
      ],
      "execution_count": 0,
      "outputs": []
    },
    {
      "cell_type": "code",
      "metadata": {
        "id": "EudcY4DnXPoy",
        "colab_type": "code",
        "colab": {}
      },
      "source": [
        "# 2 Layers\n",
        "\n",
        "class CnnRegressor(torch.nn.Module):\n",
        "  def __init__(self, batch_size, inputs, outputs):\n",
        "    super(CnnRegressor, self).__init__()\n",
        "    self.batch_size = batch_size\n",
        "    self.inputs = inputs\n",
        "    self.outputs =outputs\n",
        "\n",
        "    self.input_layer = Conv1d(inputs, batch_size, 1)\n",
        "\n",
        "    self.max_pooling_layer = MaxPool1d(1) # Constructor value:  Kernel size = 1\n",
        "\n",
        "    self.conv_layer = Conv1d(batch_size, 256, 1)\n",
        "\n",
        "    self.conv_layer2 = Conv1d(256, 128, 1)\n",
        "\n",
        "    self.flatten_layer = Flatten()\n",
        "\n",
        "    self.liner_layer = Linear(128, 64)\n",
        "\n",
        "    self.output_layer = Linear(64, outputs)\n",
        "\n",
        "  def feed(self, input):\n",
        "\n",
        "    input = input.reshape((self.batch_size, self.inputs, 1))  #single dimension for tabular data (expects 3D data(image))\n",
        "\n",
        "    output = relu(self.input_layer(input))\n",
        "\n",
        "    output = relu(self.conv_layer(output))\n",
        "\n",
        "    output = relu(self.conv_layer2(output))\n",
        "\n",
        "    output = self.max_pooling_layer(output)\n",
        "\n",
        "    output = self.flatten_layer(output)\n",
        "\n",
        "    output = self.liner_layer(output)\n",
        "\n",
        "    # output = dropout(self.liner_layer(output), p = 0.5)\n",
        "\n",
        "    output = self.output_layer(output)\n",
        "\n",
        "    return output"
      ],
      "execution_count": 0,
      "outputs": []
    },
    {
      "cell_type": "code",
      "metadata": {
        "id": "pDn5Rf3AvHd2",
        "colab_type": "code",
        "colab": {}
      },
      "source": [
        "'''\n",
        "# 3 Layers\n",
        "\n",
        "class CnnRegressor(torch.nn.Module):\n",
        "  def __init__(self, batch_size, inputs, outputs):\n",
        "    \n",
        "    super(CnnRegressor, self).__init__()\n",
        "    self.batch_size = batch_size\n",
        "    self.inputs = inputs\n",
        "    self.outputs =outputs\n",
        "\n",
        "    self.input_layer = Conv1d(inputs, batch_size, 1)\n",
        "\n",
        "    self.normalization_layer = BatchNorm1d(num_features = 128)\n",
        "\n",
        "    self.max_pooling_layer = MaxPool1d(1) # Constructor value:  Kernel size = 1\n",
        "\n",
        "    self.conv_layer = Conv1d(batch_size, 128, 1)\n",
        "\n",
        "    self.conv_layer2 = Conv1d(128, 128, 1)\n",
        "\n",
        "    self.conv_layer3 = Conv1d(128, 128, 1)\n",
        "\n",
        "    self.max_pooling_layer = MaxPool1d(1) # Constructor value:  Kernel size = 1\n",
        "\n",
        "    self.flatten_layer = Flatten()\n",
        "\n",
        "    self.liner_layer = Linear(128, 128)\n",
        "\n",
        "    self.output_layer = Linear(128, outputs)\n",
        "\n",
        "  def feed(self, input):\n",
        "\n",
        "    input = input.reshape((self.batch_size, self.inputs, 1))  #single dimension for tabular data (expects 3D data(image))\n",
        "\n",
        "    output = relu(self.normalization_layer(self.input_layer(input)))\n",
        "\n",
        "    output = self.max_pooling_layer(output)\n",
        "\n",
        "    output = relu(self.conv_layer(output))\n",
        "\n",
        "    output = relu(self.conv_layer2(output))\n",
        "\n",
        "    output = relu(self.conv_layer3(output))\n",
        "\n",
        "    output = self.flatten_layer(output)\n",
        "\n",
        "    output = self.liner_layer(output)\n",
        "\n",
        "    output = self.output_layer(output)\n",
        "\n",
        "    return output\n",
        "'''"
      ],
      "execution_count": 0,
      "outputs": []
    },
    {
      "cell_type": "code",
      "metadata": {
        "id": "iClG-nvox95T",
        "colab_type": "code",
        "colab": {}
      },
      "source": [
        "from torch.optim import SGD, Rprop, Adam\n",
        "from torch.nn import L1Loss"
      ],
      "execution_count": 0,
      "outputs": []
    },
    {
      "cell_type": "code",
      "metadata": {
        "id": "QGEXnaKgyzUh",
        "colab_type": "code",
        "outputId": "a0b5f860-356a-477d-fea4-d3a787b913a5",
        "colab": {
          "base_uri": "https://localhost:8080/",
          "height": 138
        }
      },
      "source": [
        "!pip install pytorch-ignite\n",
        "#import pytorch-ignite\n",
        "from ignite.contrib.metrics.regression.r2_score import R2Score"
      ],
      "execution_count": 20,
      "outputs": [
        {
          "output_type": "stream",
          "text": [
            "Collecting pytorch-ignite\n",
            "\u001b[?25l  Downloading https://files.pythonhosted.org/packages/35/55/41e8a995876fd2ade29bdba0c3efefa38e7d605cb353c70f3173c04928b5/pytorch_ignite-0.3.0-py2.py3-none-any.whl (103kB)\n",
            "\r\u001b[K     |███▏                            | 10kB 17.3MB/s eta 0:00:01\r\u001b[K     |██████▎                         | 20kB 21.8MB/s eta 0:00:01\r\u001b[K     |█████████▌                      | 30kB 20.2MB/s eta 0:00:01\r\u001b[K     |████████████▋                   | 40kB 16.8MB/s eta 0:00:01\r\u001b[K     |███████████████▉                | 51kB 14.4MB/s eta 0:00:01\r\u001b[K     |███████████████████             | 61kB 13.3MB/s eta 0:00:01\r\u001b[K     |██████████████████████▏         | 71kB 12.4MB/s eta 0:00:01\r\u001b[K     |█████████████████████████▎      | 81kB 11.8MB/s eta 0:00:01\r\u001b[K     |████████████████████████████▍   | 92kB 12.3MB/s eta 0:00:01\r\u001b[K     |███████████████████████████████▋| 102kB 12.4MB/s eta 0:00:01\r\u001b[K     |████████████████████████████████| 112kB 12.4MB/s \n",
            "\u001b[?25hRequirement already satisfied: torch in /usr/local/lib/python3.6/dist-packages (from pytorch-ignite) (1.4.0)\n",
            "Installing collected packages: pytorch-ignite\n",
            "Successfully installed pytorch-ignite-0.3.0\n"
          ],
          "name": "stdout"
        }
      ]
    },
    {
      "cell_type": "code",
      "metadata": {
        "id": "iiPKfJSLy8Wu",
        "colab_type": "code",
        "outputId": "4ae66b70-6ab5-40b4-aa06-83069f66e9c3",
        "colab": {
          "base_uri": "https://localhost:8080/",
          "height": 168
        }
      },
      "source": [
        "batch_size = 128\n",
        "\n",
        "model = CnnRegressor(batch_size, X.shape[1], 1)\n",
        "\n",
        "model.cuda()"
      ],
      "execution_count": 25,
      "outputs": [
        {
          "output_type": "execute_result",
          "data": {
            "text/plain": [
              "CnnRegressor(\n",
              "  (input_layer): Conv1d(8, 128, kernel_size=(1,), stride=(1,))\n",
              "  (normalization_layer): BatchNorm1d(128, eps=1e-05, momentum=0.1, affine=True, track_running_stats=True)\n",
              "  (conv_layer): Conv1d(128, 128, kernel_size=(1,), stride=(1,))\n",
              "  (max_pooling_layer): MaxPool1d(kernel_size=1, stride=1, padding=0, dilation=1, ceil_mode=False)\n",
              "  (flatten_layer): Flatten()\n",
              "  (liner_layer): Linear(in_features=128, out_features=128, bias=True)\n",
              "  (output_layer): Linear(in_features=128, out_features=1, bias=True)\n",
              ")"
            ]
          },
          "metadata": {
            "tags": []
          },
          "execution_count": 25
        }
      ]
    },
    {
      "cell_type": "code",
      "metadata": {
        "id": "HR4BZEkR2A-Y",
        "colab_type": "code",
        "colab": {}
      },
      "source": [
        "def model_loss(model, dataset, train = False, optimizer = None):\n",
        "\n",
        "  performance = L1Loss()\n",
        "  score_metric = R2Score()\n",
        "\n",
        "  avg_loss = 0\n",
        "  avg_score = 0\n",
        "  count = 0\n",
        "\n",
        "  for input, output in iter(dataset):\n",
        "\n",
        "\n",
        "    predictions = model.feed(input)\n",
        "\n",
        "    loss = performance(predictions, output)\n",
        "\n",
        "    score_metric.update([predictions, output])\n",
        "    score = score_metric.compute()\n",
        "\n",
        "    if(train):\n",
        "\n",
        "      optimizer.zero_grad()\n",
        "\n",
        "      loss.backward()\n",
        "\n",
        "      optimizer.step()\n",
        "\n",
        "    avg_loss += loss.item()\n",
        "    avg_score += score\n",
        "    count += 1\n",
        "\n",
        "  return avg_loss/count, avg_score/count"
      ],
      "execution_count": 0,
      "outputs": []
    },
    {
      "cell_type": "code",
      "metadata": {
        "id": "ffycXbUP3T3-",
        "colab_type": "code",
        "outputId": "a4bccdfa-22f7-469a-ca00-072e1125f59d",
        "colab": {
          "base_uri": "https://localhost:8080/",
          "height": 34
        }
      },
      "source": [
        "epochs = 250\n",
        "\n",
        "optimizer = Rprop(model.parameters(), lr = 1e-5)\n",
        "\n",
        "inputs = torch.from_numpy(x_train_np).cuda().float()\n",
        "outputs = torch.from_numpy(y_train_np.reshape(y_train_np.shape[0], 1)).cuda().float()\n",
        "\n",
        "tensor = TensorDataset(inputs, outputs)\n",
        "loader = DataLoader(tensor, batch_size, shuffle = True, drop_last = True)\n",
        "\n",
        "for epoch in range(epochs):\n",
        "\n",
        "  avg_loss, avg_r2_score = model_loss(model, loader, train = True, optimizer = optimizer)\n",
        "\n",
        "  print('\\rEpoch %d \\tLoss = %f \\tR2 Score = %f' %(epoch + 1, avg_loss, avg_r2_score), end = \"\")"
      ],
      "execution_count": 27,
      "outputs": [
        {
          "output_type": "stream",
          "text": [
            "Epoch 250 \tLoss = 46348.120566 \tR2 Score = 0.672171"
          ],
          "name": "stdout"
        }
      ]
    },
    {
      "cell_type": "code",
      "metadata": {
        "id": "KWd511mv8Pep",
        "colab_type": "code",
        "outputId": "3ac0eec1-8d1b-4393-9fb5-f3fc6972b575",
        "colab": {
          "base_uri": "https://localhost:8080/",
          "height": 50
        }
      },
      "source": [
        "inputs = torch.from_numpy(x_test_np).cuda().float()\n",
        "outputs = torch.from_numpy(y_test_np.reshape(y_test_np.shape[0], 1)).cuda().float()\n",
        "\n",
        "tensor = TensorDataset(inputs, outputs)\n",
        "loader = DataLoader(tensor, batch_size, shuffle = True, drop_last =  True)\n",
        "\n",
        "avg_loss, avg_r2_score = model_loss(model, loader)\n",
        "\n",
        "print('L1 Loss: ' + str(avg_loss))\n",
        "print('R2 Score: ' + str(avg_r2_score))"
      ],
      "execution_count": 28,
      "outputs": [
        {
          "output_type": "stream",
          "text": [
            "L1 Loss: 46394.778673537236\n",
            "R2 Score: 0.6726641227004522\n"
          ],
          "name": "stdout"
        }
      ]
    },
    {
      "cell_type": "code",
      "metadata": {
        "id": "2K-2iDk6Kilf",
        "colab_type": "code",
        "colab": {
          "base_uri": "https://localhost:8080/",
          "height": 70
        },
        "outputId": "07d6b854-59c6-4bdc-e07b-8ecdcf1c9efd"
      },
      "source": [
        "torch.save(model, \"1116613_1dConv_reg\")"
      ],
      "execution_count": 29,
      "outputs": [
        {
          "output_type": "stream",
          "text": [
            "/usr/local/lib/python3.6/dist-packages/torch/serialization.py:360: UserWarning: Couldn't retrieve source code for container of type CnnRegressor. It won't be checked for correctness upon loading.\n",
            "  \"type \" + obj.__name__ + \". It won't be checked \"\n"
          ],
          "name": "stderr"
        }
      ]
    }
  ]
}